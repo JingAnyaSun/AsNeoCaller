{
 "cells": [
  {
   "cell_type": "code",
   "execution_count": 8,
   "id": "52331190-6a33-45cc-9288-1b5f7ac2b103",
   "metadata": {},
   "outputs": [],
   "source": [
    "# import packages \n",
    "import gffutils\n",
    "from Bio import SeqIO \n",
    "import numpy as np\n",
    "from Bio.Seq import Seq\n",
    "import pandas as pd"
   ]
  },
  {
   "cell_type": "code",
   "execution_count": 2,
   "id": "50665d7e-a22b-4944-8517-b3257400a488",
   "metadata": {},
   "outputs": [],
   "source": [
    "# create database using gtf file(should be the same one as used for rMATS analysis)\n",
    "fn1='Homo_sapiens.GRCh38.90.gtf.gz'\n",
    "db = gffutils.create_db(fn1,\":memory:\",keep_order=True,disable_infer_genes=True, disable_infer_transcripts=True)"
   ]
  },
  {
   "cell_type": "code",
   "execution_count": 3,
   "id": "4ac3eecf-e376-4fa0-b865-e7815a42fb1c",
   "metadata": {},
   "outputs": [],
   "source": [
    "# parse ref fasta seq\n",
    "file_path = \"Homo_sapiens.GRCh38.dna.primary_assembly.fa\"\n",
    "hg38_sequences = list(SeqIO.parse(file_path, \"fasta\"))"
   ]
  },
  {
   "cell_type": "code",
   "execution_count": 6,
   "id": "171e28cc-afce-4cd9-bb6b-0aabd05e14cb",
   "metadata": {},
   "outputs": [],
   "source": [
    "# covert csv to txt file, then load txt  \n",
    "def covReadCSV(csv_path,txt_path):\n",
    "    data = pd.read_csv(csv_path)\n",
    "    data.to_csv(txt_path, sep='\\t', index=False)\n",
    "    columns_to_read = list(range(2, 12)) + list(range(18, 21))\n",
    "    AS = np.loadtxt(txt_path, dtype=str, delimiter='\\t', skiprows=1, usecols=columns_to_read)\n",
    "    return AS"
   ]
  },
  {
   "cell_type": "code",
   "execution_count": 15,
   "id": "8bcb4c4f-8b64-4fa1-8435-bd4a08461672",
   "metadata": {},
   "outputs": [],
   "source": [
    "# Function: getA3SSFrame\n",
    "# Inputs: rMATs file after processing and gff database(!Note the release version of gff file, fasta file, and rMATs file should be the same!)  \n",
    "# Returns: array file containg info of the upstream exon start/end position, frame, target exon start/end position, downstream exon start/end position \n",
    "# Summary: retrieve the frame information from gff file for translation  \n",
    "\n",
    "def getA3SSFrame(se, db):\n",
    "    dtype = [('Gene_ID', 'U20'), ('strand', 'U10'), ('CDS_ID', 'U20'), ('CDS_Start', int), ('CDS_Stop', int), ('CDS_Frame', int),('T_Start', int), ('T_Stop', int),('Down_Start', int), ('Down_Stop', int), ('Chrom', 'U20'), ('Gene_name', 'U20'),\n",
    "            ('subtype','U20'),('type','U20'),('comp','U20')]\n",
    "    gene_frame_array = np.array([], dtype=dtype)\n",
    "    for l in se:\n",
    "        gene_id = l[0]\n",
    "        gene_name = l[1]\n",
    "        chrom = l[2]\n",
    "        strand = l[3]\n",
    "        UpES = int(l[8])\n",
    "        UpEE = int(l[9])\n",
    "        LES = int(l[4])\n",
    "        LEE = int(l[5])\n",
    "        SES = int(l[6])\n",
    "        SEE = int(l[7])\n",
    "        subtype = l[10]\n",
    "        type = l[11]\n",
    "        comp = l[12]\n",
    "        # print(gene_name, subtype, type,comp)\n",
    "        cds_features = db.children(gene_id, featuretype='CDS')\n",
    "        if strand == '+':\n",
    "            for cds in cds_features:\n",
    "                if cds.start == UpES+1 and cds.stop == UpEE:\n",
    "                    # print(gene_id,cds.id,cds.start,cds.stop,cds.frame)\n",
    "                    gene_frame_array = np.append(gene_frame_array, np.array([(gene_id, strand, cds.id, cds.start, cds.stop, cds.frame, LES, LEE, SES, SEE, chrom, gene_name, subtype, type, comp)], dtype=dtype))\n",
    "                    break\n",
    "                elif cds.stop == UpEE and cds.start > UpES+1:\n",
    "                    gene_frame_array = np.append(gene_frame_array, np.array([(gene_id, strand, cds.id, cds.start, cds.stop, cds.frame, LES, LEE, SES, SEE, chrom, gene_name, subtype, type, comp)], dtype=dtype))\n",
    "                    break \n",
    "        else:\n",
    "            for cds in cds_features:\n",
    "                if cds.start == UpES+1  and cds.stop == UpEE:\n",
    "                    # print(gene_id,cds.id,cds.start,cds.stop,cds.frame)\n",
    "                    gene_frame_array = np.append(gene_frame_array, np.array([(gene_id, strand, cds.id, cds.start, cds.stop, cds.frame, LES, LEE, SES, SEE,chrom, gene_name, subtype, type, comp)], dtype=dtype))\n",
    "                    break\n",
    "                elif cds.stop < UpEE and cds.start == UpES+1:\n",
    "                    gene_frame_array = np.append(gene_frame_array, np.array([(gene_id, strand, cds.id, cds.start, cds.stop, cds.frame, LES, LEE, SES, SEE,chrom, gene_name, subtype, type, comp)], dtype=dtype))\n",
    "                    break \n",
    "    return gene_frame_array"
   ]
  },
  {
   "cell_type": "code",
   "execution_count": 12,
   "id": "9adfc1c8-f8f3-4abf-a91c-5fb86fe4c985",
   "metadata": {},
   "outputs": [],
   "source": [
    "# Function: getA3Seq\n",
    "# Inputs: gene_frame_array, parsed fasta file(!Note the release version of gff file, fasta file, and rMATs file should be the same!)!Note the release version of gff file, fasta file, and rMATs file should be the same!)\n",
    "# Returns: nucleotide sequence \n",
    "# Summary: retrieve nucleotide sequence based on the coordiate(start and end position of each exon)\n",
    "def getA3Seq(gene_frame_array, hg38_sequences):\n",
    "    # Define the data type for the structured array\n",
    "    dtype = [('Gene_ID', 'U20'), ('CDS_Frame', int), ('Chrom', 'U20'), ('Seq', 'U10000'), ('se_Seq', 'U10000'), ('gene_name', 'U20'),('subtype', 'U10000'), ('type', 'U10000'), ('comp', 'U20')]  # Adjust the max sequence length as needed\n",
    "    seq_array = np.array([], dtype=dtype)\n",
    "    \n",
    "    # Loop through your data, extract sequences, and add them to the structured array\n",
    "    for l in gene_frame_array:\n",
    "        gene = l[0]\n",
    "        strand = l[1]\n",
    "        UpES = l[3]\n",
    "        UpEE = l[4]\n",
    "        frame = l[5]\n",
    "        LES = l[6]\n",
    "        LEE = l[7]\n",
    "        SES = l[8]\n",
    "        SEE = l[9]\n",
    "        chrom = l[10]\n",
    "        gene_name = l[11]\n",
    "        subtype = l[12]\n",
    "        type = l[13]\n",
    "        comp = l[14]\n",
    "        \n",
    "        chrom_id = chrom[3:] # Extract the chromosome ID\n",
    "    \n",
    "        # Find the sequence for the specified chromosome\n",
    "        for record in hg38_sequences:\n",
    "            if record.id == chrom_id:\n",
    "                up_seq = record.seq[UpES - 1:UpEE]\n",
    "                l_seq = record.seq[LES:LEE]\n",
    "                s_seq = record.seq[SES:SEE]\n",
    "                seq = str(up_seq + s_seq)  # Convert the sequence to a string\n",
    "                A3_seq = str(up_seq + l_seq)\n",
    "               \n",
    "                if strand == '+':\n",
    "                    seq_array = np.append(seq_array, np.array([(gene, frame, chrom_id, seq, A3_seq, gene_name, subtype, type, comp)], dtype=dtype))\n",
    "                    # print(gene, seq)\n",
    "                    # print(se_seq)\n",
    "                elif strand == '-':\n",
    "                    seq = up_seq[::-1]+ s_seq[::-1]\n",
    "                    seq = str(Seq(seq).complement())\n",
    "                    A3_seq = up_seq[::-1]+ l_seq[::-1] \n",
    "                    A3_seq = str(Seq(A3_seq).complement())  \n",
    "                    seq_array = np.append(seq_array, np.array([(gene, frame, chrom_id, seq, A3_seq, gene_name, subtype, type, comp)], dtype=dtype))\n",
    "    return seq_array"
   ]
  },
  {
   "cell_type": "code",
   "execution_count": 18,
   "id": "753173fb-d3ce-4ed8-a64c-dae1cf90d66c",
   "metadata": {},
   "outputs": [],
   "source": [
    "# Function: getAASeq\n",
    "# Inputs: seq_array \n",
    "# Returns: amino acid sequence \n",
    "# Summary: translate the nucleotide sequence into amino acid sequence \n",
    "def getAASeq(seq_array):\n",
    "    dtype = [('Gene_ID', 'U20'),('Gene_name', 'U20'), ('aa_seq', 'U10000'), ('se_aa_seq', 'U10000'),('subtype','U20'),('type','U20'),('comp','U20')]  # Adjust the max sequence length as needed\n",
    "    aa_array = np.array([], dtype=dtype)\n",
    "\n",
    "    for l in seq_array:\n",
    "        gene = l[0]\n",
    "        frame = l[1]\n",
    "        seq = l[3]\n",
    "        se_seq = l[4]\n",
    "        gene_name = l[5]\n",
    "        subtype = l[6]\n",
    "        type = l[7]\n",
    "        comp = l[8]\n",
    "        aa = Seq(seq[frame:]).translate(to_stop=True)\n",
    "        se_aa = Seq(se_seq[frame:]).translate(to_stop = True)\n",
    "        aa_array = np.append(aa_array, np.array([(gene, gene_name, str(aa), str(se_aa),subtype,type,comp)], dtype=dtype))\n",
    "    return aa_array "
   ]
  },
  {
   "cell_type": "code",
   "execution_count": 21,
   "id": "e65ec29a-f0d1-41eb-99b6-767ab3d6051c",
   "metadata": {},
   "outputs": [],
   "source": [
    "def main():\n",
    "    \n",
    "    a3ss=covReadCSV(a3ss_csv_path,a3ss_txt_path)\n",
    "    a3ss_frame=getA3SSFrame(a3ss,db)\n",
    "    a3_seq=getA3Seq(a3ss_frame, hg38_sequences)\n",
    "    a3_AA_seq = getAASeq(a3_seq)\n",
    "    file_name = \"MPN_neoepitope/A3SS_peptides_MPN.txt\"\n",
    "    fmt = \"%s\\t%s\\t%s\\t%s\\t%s\\t%s\\t%s\"\n",
    "    np.savetxt(file_name, a3_AA_seq, fmt=fmt, delimiter='\\t')\n",
    "    print('file saved!')\n",
    "    "
   ]
  },
  {
   "cell_type": "code",
   "execution_count": 22,
   "id": "92c0fe37-647b-4c05-bb4a-6e91e6ec9ecc",
   "metadata": {},
   "outputs": [
    {
     "name": "stdout",
     "output_type": "stream",
     "text": [
      "file saved!\n"
     ]
    },
    {
     "name": "stderr",
     "output_type": "stream",
     "text": [
      "/scratch/prj/kordastilab_neoepitope/gffutil/jvenv/lib/python3.9/site-packages/Bio/Seq.py:2804: BiopythonWarning: Partial codon, len(sequence) not a multiple of three. Explicitly trim the sequence or add trailing N before translation. This may become an error in future.\n",
      "  warnings.warn(\n"
     ]
    }
   ],
   "source": [
    "if __name__ == '__main__':\n",
    "    a3ss_csv_path = 'MPN_neoepitope/neojunction/A3SS_all_neoj.csv'\n",
    "    a3ss_txt_path = 'MPN_neoepitope/neojunction/A3SS_all_neoj.txt'\n",
    "    main()"
   ]
  }
 ],
 "metadata": {
  "kernelspec": {
   "display_name": "Python 3 (ipykernel)",
   "language": "python",
   "name": "python3"
  },
  "language_info": {
   "codemirror_mode": {
    "name": "ipython",
    "version": 3
   },
   "file_extension": ".py",
   "mimetype": "text/x-python",
   "name": "python",
   "nbconvert_exporter": "python",
   "pygments_lexer": "ipython3",
   "version": "3.9.12"
  }
 },
 "nbformat": 4,
 "nbformat_minor": 5
}

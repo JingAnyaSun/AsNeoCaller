{
 "cells": [
  {
   "cell_type": "code",
   "execution_count": 1,
   "id": "c6af4e32-fcae-42e6-9be5-3ce53021c434",
   "metadata": {},
   "outputs": [],
   "source": [
    "# import packages \n",
    "import gffutils\n",
    "from Bio import SeqIO \n",
    "import numpy as np\n",
    "from Bio.Seq import Seq\n",
    "import pandas as pd"
   ]
  },
  {
   "cell_type": "code",
   "execution_count": 2,
   "id": "c8a3c20e-d388-4f79-bd29-b4f528de449e",
   "metadata": {},
   "outputs": [],
   "source": [
    "# create database using gtf file(should be the same one as used for rMATS analysis)\n",
    "fn1='Homo_sapiens.GRCh38.90.gtf.gz'\n",
    "db = gffutils.create_db(fn1,\":memory:\",keep_order=True,disable_infer_genes=True, disable_infer_transcripts=True)"
   ]
  },
  {
   "cell_type": "code",
   "execution_count": 3,
   "id": "eeb7225a-9d73-4465-b738-30e27316e21e",
   "metadata": {},
   "outputs": [],
   "source": [
    "# parse ref fasta seq\n",
    "file_path = \"Homo_sapiens.GRCh38.dna.primary_assembly.fa\"\n",
    "hg38_sequences = list(SeqIO.parse(file_path, \"fasta\"))"
   ]
  },
  {
   "cell_type": "code",
   "execution_count": 10,
   "id": "5c959ddb-15f7-4d91-942f-15089ddfc86e",
   "metadata": {},
   "outputs": [],
   "source": [
    "# covert csv to txt file, then load txt  \n",
    "def covReadCSVMXE(csv_path,txt_path):\n",
    "    data = pd.read_csv(csv_path)\n",
    "    data.to_csv(txt_path, sep='\\t', index=False)\n",
    "    columns_to_read = list(range(2, 14)) + list(range(20, 23))\n",
    "    AS = np.loadtxt(txt_path, dtype=str, delimiter='\\t', skiprows=1, usecols=columns_to_read)\n",
    "    return AS"
   ]
  },
  {
   "cell_type": "code",
   "execution_count": 7,
   "id": "b204191c-1038-46b9-8561-4c103bea3cc1",
   "metadata": {},
   "outputs": [],
   "source": [
    "# Function: getMXEFrame\n",
    "# Inputs: rMATs file after processing(DSSEs) and gff database(!Note the release version of gff file, fasta file, and rMATs file should be the same!)  \n",
    "# Returns: array file containing info of the upstream exon start/end position, frame, target exon start/end position, downstream exon start/end position \n",
    "# Summary: retrieve the frame information from gff file for translation\n",
    "\n",
    "def getMXEFrame(mxe, db):\n",
    "    dtype = [('Gene_ID', 'U20'), ('strand', 'U10'), ('CDS_ID', 'U20'), ('CDS_Start', int), ('CDS_Stop', int), ('CDS_Frame', int),('T_Start1', int), ('T_Stop1', int),('T_Start2', int), ('T_Stop2', int),('Down_Start', int), ('Down_Stop', int), ('Chrom', 'U20'), ('Gene_name', 'U20'),\n",
    "            ('subtype', 'U20'), ('type', 'U10'), ('comp', 'U20')]\n",
    "    gene_frame_array = np.array([], dtype=dtype)\n",
    "    for l in mxe:\n",
    "        gene_id = l[0]\n",
    "        gene_name = l[1]\n",
    "        chrom = l[2]\n",
    "        strand = l[3]\n",
    "        UpES = int(l[8])\n",
    "        UpEE = int(l[9])\n",
    "        TES1 = int(l[4])\n",
    "        TEE1 = int(l[5])\n",
    "        TES2 = int(l[6])\n",
    "        TEE2 = int(l[7])\n",
    "        DownES = int(l[10])\n",
    "        DownEE = int(l[11])\n",
    "        subtype = l[12]\n",
    "        type = l[13]\n",
    "        comp = l[14]\n",
    "        cds_features = db.children(gene_id, featuretype='CDS')\n",
    "        if strand == '+':\n",
    "            for cds in cds_features:\n",
    "                if cds.start == UpES+1 and cds.stop == UpEE:\n",
    "                    # print(gene_id,cds.id,cds.start,cds.stop,cds.frame)\n",
    "                    gene_frame_array = np.append(gene_frame_array, np.array([(gene_id, strand, cds.id, cds.start, cds.stop, cds.frame, TES1, TEE1, TES2, TEE2, DownES, DownEE, chrom, gene_name,subtype,type,comp)], dtype=dtype))\n",
    "                    break\n",
    "                elif cds.stop == UpEE and cds.start > UpES+1:\n",
    "                    gene_frame_array = np.append(gene_frame_array, np.array([(gene_id, strand, cds.id, cds.start, cds.stop, cds.frame, TES1, TEE1, TES2, TEE2, DownES, DownEE, chrom, gene_name,subtype,type,comp)], dtype=dtype))\n",
    "                    break \n",
    "        else:\n",
    "            for cds in cds_features:\n",
    "                if cds.start == DownES+1 and cds.stop == DownEE:\n",
    "                    # print(gene_id,cds.id,cds.start,cds.stop,cds.frame)\n",
    "                    gene_frame_array = np.append(gene_frame_array, np.array([(gene_id, strand, cds.id, cds.start, cds.stop, cds.frame, TES1, TEE1, TES2, TEE2, UpES, UpEE,chrom, gene_name,subtype,type,comp)], dtype=dtype))\n",
    "                    break\n",
    "                elif cds.start == DownES+1 and cds.stop < DownEE:\n",
    "                    gene_frame_array = np.append(gene_frame_array, np.array([(gene_id, strand, cds.id, cds.start, cds.stop, cds.frame, TES1, TEE1, TES2, TEE2, UpES, UpEE,chrom, gene_name,subtype,type,comp)], dtype=dtype))\n",
    "                    break \n",
    "    return gene_frame_array"
   ]
  },
  {
   "cell_type": "code",
   "execution_count": 13,
   "id": "9aea2312-c73d-4621-8085-47172c7f6d6b",
   "metadata": {},
   "outputs": [],
   "source": [
    "# Function: getMXESeq\n",
    "# Inputs: rMATs file after processing(DSSEs) and hg38 reference(!Note the release version of gff file, fasta file, and rMATs file should be the same!)  \n",
    "# Returns: nucleotide sequence of designated coordinate range\n",
    "# Summary: retrieve nucleotide sequence based on the coordiate(start and end position of each exon of RI events) \n",
    "def getMXESeq(gene_frame_array, hg38_sequences):\n",
    "    # Define the data type for the structured array\n",
    "    dtype = [('Gene_ID', 'U20'), ('CDS_Frame', int), ('Chrom', 'U20'), ('Seq', 'U10000'), ('se_Seq', 'U10000'), ('gene_name', 'U20'),('subtype', 'U20'),('type', 'U20'),('comp', 'U20')]  # Adjust the max sequence length as needed\n",
    "    seq_array = np.array([], dtype=dtype)\n",
    "    \n",
    "    # Loop through your data, extract sequences, and add them to the structured array\n",
    "    for l in gene_frame_array:\n",
    "        gene = l[0]\n",
    "        strand = l[1]\n",
    "        UpES = l[3]\n",
    "        UpEE = l[4]\n",
    "        frame = l[5]\n",
    "        TES1 = l[6]\n",
    "        TEE1 = l[7]\n",
    "        TES2 = l[8]\n",
    "        TEE2 = l[9]\n",
    "        DownES = l[10]\n",
    "        DownEE = l[11]\n",
    "        chrom = l[12]\n",
    "        gene_name = l[13]\n",
    "        subtype = l[14]\n",
    "        type = l[15]\n",
    "        comp = l[16]\n",
    "        \n",
    "        chrom_id = chrom[3:] # Extract the chromosome ID\n",
    "    \n",
    "        # Find the sequence for the specified chromosome\n",
    "        for record in hg38_sequences:\n",
    "            if record.id == chrom_id:\n",
    "                up_seq = record.seq[UpES - 1:UpEE]\n",
    "                t1_seq = record.seq[TES1:TEE1]\n",
    "                t2_seq = record.seq[TES2:TEE2]\n",
    "                down_seq = record.seq[DownES:DownEE]\n",
    "                mxe_seq = str(up_seq + t1_seq + down_seq)  # Convert the sequence to a string\n",
    "                ex_mxe_seq = str(up_seq +t2_seq + down_seq)\n",
    "               \n",
    "                if strand == '+':\n",
    "                    seq_array = np.append(seq_array, np.array([(gene, frame, chrom_id, ex_mxe_seq, mxe_seq, gene_name, subtype, type, comp)], dtype=dtype))\n",
    "                    # print(gene, seq)\n",
    "                    # print(se_seq)\n",
    "                elif strand == '-':\n",
    "                    mxe_seq = up_seq[::-1]+t2_seq[::-1]+down_seq[::-1]\n",
    "                    mxe_seq = str(Seq(mxe_seq).complement())\n",
    "                    ex_mxe_seq = up_seq[::-1] +t1_seq[::-1]+ down_seq[::-1]\n",
    "                    ex_mxe_seq = str(Seq(ex_mxe_seq).complement())  \n",
    "                    seq_array = np.append(seq_array, np.array([(gene, frame, chrom_id, ex_mxe_seq, mxe_seq, gene_name, subtype, type, comp)], dtype=dtype))\n",
    "    return seq_array"
   ]
  },
  {
   "cell_type": "code",
   "execution_count": 15,
   "id": "4ac8eb9c-6ac3-4272-bf18-fe3864ffb9a5",
   "metadata": {},
   "outputs": [],
   "source": [
    "# Function: getAASeq\n",
    "# Inputs: seq_array \n",
    "# Returns: amino acid sequence \n",
    "# Summary: translate the nucleotide sequence into amino acid sequence \n",
    "def getAASeq(seq_array):\n",
    "    dtype = [('Gene_ID', 'U20'),('Gene_name', 'U20'), ('aa_seq', 'U10000'), ('se_aa_seq', 'U10000'),('subtype','U20'),('type','U20'),('comp','U20')]  # Adjust the max sequence length as needed\n",
    "    aa_array = np.array([], dtype=dtype)\n",
    "\n",
    "    for l in seq_array:\n",
    "        gene = l[0]\n",
    "        frame = l[1]\n",
    "        seq = l[3]\n",
    "        se_seq = l[4]\n",
    "        gene_name = l[5]\n",
    "        subtype = l[6]\n",
    "        type = l[7]\n",
    "        comp = l[8]\n",
    "        aa = Seq(seq[frame:]).translate(to_stop=True)\n",
    "        se_aa = Seq(se_seq[frame:]).translate(to_stop = True)\n",
    "        aa_array = np.append(aa_array, np.array([(gene, gene_name, str(aa), str(se_aa),subtype,type,comp)], dtype=dtype))\n",
    "    return aa_array "
   ]
  },
  {
   "cell_type": "code",
   "execution_count": 16,
   "id": "88b8c24e-c4ee-4ed5-a914-16eaa12bd57e",
   "metadata": {},
   "outputs": [],
   "source": [
    "def main():\n",
    "    mxe=covReadCSVMXE(mxe_csv_path,mxe_txt_path)\n",
    "    mxe_frame = getMXEFrame(mxe,db)\n",
    "    mxe_seq=getMXESeq(mxe_frame, hg38_sequences)\n",
    "    mxe_seq=getAASeq(mxe_seq)\n",
    "    file_name = \"MPN_neoepitope/MXE_peptides_MPN.txt\"\n",
    "    fmt = \"%s\\t%s\\t%s\\t%s\\t%s\\t%s\\t%s\"\n",
    "    np.savetxt(file_name, mxe_seq, fmt=fmt, delimiter='\\t')\n",
    "    print('file saved!')\n",
    "    "
   ]
  },
  {
   "cell_type": "code",
   "execution_count": 17,
   "id": "31fe30d5-0ca6-4c12-a5aa-0e73235eaabe",
   "metadata": {},
   "outputs": [
    {
     "name": "stdout",
     "output_type": "stream",
     "text": [
      "file saved!\n"
     ]
    },
    {
     "name": "stderr",
     "output_type": "stream",
     "text": [
      "/scratch/prj/kordastilab_neoepitope/gffutil/jvenv/lib/python3.9/site-packages/Bio/Seq.py:2804: BiopythonWarning: Partial codon, len(sequence) not a multiple of three. Explicitly trim the sequence or add trailing N before translation. This may become an error in future.\n",
      "  warnings.warn(\n"
     ]
    }
   ],
   "source": [
    "if __name__ == '__main__':\n",
    "    mxe_csv_path = 'MPN_neoepitope/neojunction/MXE_all_neoj.csv'\n",
    "    mxe_txt_path = 'MPN_neoepitope/neojunction/MXE_all_neoj.txt'\n",
    "    main()\n"
   ]
  }
 ],
 "metadata": {
  "kernelspec": {
   "display_name": "Python 3 (ipykernel)",
   "language": "python",
   "name": "python3"
  },
  "language_info": {
   "codemirror_mode": {
    "name": "ipython",
    "version": 3
   },
   "file_extension": ".py",
   "mimetype": "text/x-python",
   "name": "python",
   "nbconvert_exporter": "python",
   "pygments_lexer": "ipython3",
   "version": "3.9.12"
  }
 },
 "nbformat": 4,
 "nbformat_minor": 5
}

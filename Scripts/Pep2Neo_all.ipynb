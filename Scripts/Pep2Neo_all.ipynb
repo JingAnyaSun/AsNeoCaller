{
 "cells": [
  {
   "cell_type": "code",
   "execution_count": 1,
   "id": "07bb5f04-961e-4ddb-ba34-da09855c6579",
   "metadata": {},
   "outputs": [],
   "source": [
    "# import packages\n",
    "import os, subprocess\n",
    "import numpy as np\n",
    "import pandas as pd\n",
    "import glob\n",
    "import sys\n",
    "#set NetMHCpan envrionment variable\n",
    "os.environ['NETMHCpan'] = '/scratch/prj/kordastilab_neoepitope/gffutil/netMHCpan-4.1/Linux_x86_64'"
   ]
  },
  {
   "cell_type": "code",
   "execution_count": 3,
   "id": "436898d7-c064-46d8-973c-2459dc0d6c71",
   "metadata": {},
   "outputs": [],
   "source": [
    "# function to processHLA file \n",
    "def ProcessHLA(file_path):\n",
    "    df = pd.read_csv(file_path, delim_whitespace=True, header=None, names=[\"HLA\", \"n\"])\n",
    "    hla = df[\"HLA\"].tolist()\n",
    "    return hla "
   ]
  },
  {
   "cell_type": "code",
   "execution_count": 16,
   "id": "f4e5f698-0350-4c98-a8f2-4f8148d4fb39",
   "metadata": {},
   "outputs": [],
   "source": [
    "# Function: processPeps\n",
    "# Inputs: peptide path(output file from SE_As2Pep) \n",
    "# Returns: None (2 separate fasta files will be generated) \n",
    "# Summary: processing output from SE-As2Pep  \n",
    "def processPeps(hd_pep, hd_output_path, dis_output_path):\n",
    "    \n",
    "    dif = hd_pep[:,6] == 'Y'\n",
    "    hd_pep = hd_pep[dif]\n",
    "    \n",
    "    with open(hd_output_path, 'w') as f_hd, open(dis_output_path, 'w') as f_dis:\n",
    "        for l in hd_pep:\n",
    "            gene_name = l[1]\n",
    "            type = l[5]\n",
    "            \n",
    "            if type == 'Inc':\n",
    "                dis_pep = l[3]\n",
    "                hd_pep1 = l[2]\n",
    "            else:\n",
    "                dis_pep = l[2]\n",
    "                hd_pep1 = l[3]\n",
    "                \n",
    "            f_hd.write(f'>{gene_name}\\n')\n",
    "            f_hd.write(f'{hd_pep1}\\n')\n",
    "            f_dis.write(f'>{gene_name}\\n')\n",
    "            f_dis.write(f'{dis_pep}\\n')\n",
    "\n",
    "    return"
   ]
  },
  {
   "cell_type": "code",
   "execution_count": 27,
   "id": "266f61b6-515a-47d3-b3b6-aaa82f814195",
   "metadata": {},
   "outputs": [],
   "source": [
    "def processSEPeps(hd_pep, hd_output_path, dis_output_path):\n",
    "    \n",
    "    dif = hd_pep[:,6] == 'Y'\n",
    "    hd_pep = hd_pep[dif]\n",
    "    \n",
    "    with open(hd_output_path, 'w') as f_hd, open(dis_output_path, 'w') as f_dis:\n",
    "        for l in hd_pep:\n",
    "            gene_name = l[1]\n",
    "            type = l[5]\n",
    "            \n",
    "            if type == 'Inc':\n",
    "                dis_pep = l[2]\n",
    "                hd_pep1 = l[3]\n",
    "            else:\n",
    "                dis_pep = l[3]\n",
    "                hd_pep1 = l[2]\n",
    "                \n",
    "            f_hd.write(f'>{gene_name}\\n')\n",
    "            f_hd.write(f'{hd_pep1}\\n')\n",
    "            f_dis.write(f'>{gene_name}\\n')\n",
    "            f_dis.write(f'{dis_pep}\\n')\n",
    "\n",
    "    return"
   ]
  },
  {
   "cell_type": "code",
   "execution_count": 7,
   "id": "4c317b81-59ad-4778-8f5b-61091d5b10d7",
   "metadata": {},
   "outputs": [],
   "source": [
    "#process output from Seq2Pep file and generate fsa file function, chose the corresponding inclusion/exclusion type for disease-associated AS events\n",
    "def ProcessSeq(dis_pep,pep_path):\n",
    "    \n",
    "    with open(pep_path, 'w') as f_dis:\n",
    "        for l in dis_pep:\n",
    "            gene_name = l[1]\n",
    "            type = l[5]\n",
    "            comp = l[6]\n",
    "            if comp == 'N': \n",
    "                if type == 'Inc':\n",
    "                    dis_pep = l[3]\n",
    "                else:\n",
    "                    dis_pep = l[2]\n",
    "                f_dis.write(f'>{gene_name}\\n')\n",
    "                f_dis.write(f'{dis_pep}\\n')\n",
    "    return"
   ]
  },
  {
   "cell_type": "code",
   "execution_count": 26,
   "id": "a27f217c-b17a-49a3-9f35-c26853171b3f",
   "metadata": {},
   "outputs": [],
   "source": [
    "#process output from Seq2Pep and generate fsa file function\n",
    "def ProcessSESeq(dis_pep,pep_path):\n",
    "    \n",
    "    with open(pep_path, 'w') as f_dis:\n",
    "        for l in dis_pep:\n",
    "            gene_name = l[1]\n",
    "            type = l[5]\n",
    "            comp = l[6]\n",
    "            if comp == 'N': \n",
    "                if type == 'Inc':\n",
    "                    dis_pep = l[2]\n",
    "                else:\n",
    "                    dis_pep = l[3]\n",
    "                f_dis.write(f'>{gene_name}\\n')\n",
    "                f_dis.write(f'{dis_pep}\\n')\n",
    "    return"
   ]
  },
  {
   "cell_type": "code",
   "execution_count": 11,
   "id": "f4244d6e-0a98-4197-b3f2-32ca718731d0",
   "metadata": {},
   "outputs": [],
   "source": [
    "# Function: runNetMHCpan(version: 4.1b)\n",
    "# Inputs: netMHCpan executable path, FASTA file of peptide sequences, patient HLA alleles, output directory, output file name\n",
    "# Returns: None (netMHCIpan will automatically write output to a .xls file)\n",
    "# Summary: runs netMHCIpan for HLA and peptide binding prediction.\n",
    "def runNetMHCpan(netMHCpan_path, peptide_file, hlaalleles, output):\n",
    "    xls_output_file = os.path.join(f'{output}.xls')\n",
    "    txt_output_file = os.path.join(f'{output}.txt')\n",
    "    # Define the NetMHCpan command\n",
    "    netMHCpan_command = f'{netMHCpan_path} -BA -f {peptide_file} -a {hlaalleles} -s -xls -xlsfile {xls_output_file} > {txt_output_file}'\n",
    "    # Run the NetMHCpan command\n",
    "    subprocess.run(netMHCpan_command, shell=True, check=True)\n",
    "    return"
   ]
  },
  {
   "cell_type": "code",
   "execution_count": 10,
   "id": "1e61fd56-dbc1-4ab5-9143-45358851a038",
   "metadata": {},
   "outputs": [],
   "source": [
    "# Function: postProcessing\n",
    "# Inputs: output files(.xls) from runNetMHCpan, hla alleles, and output directory\n",
    "# Returns: tidied excel file showing neoantigens of the correspoinding genes and HLA alleles \n",
    "# Summary: post-process output file from runNetMHCpan function \n",
    "\n",
    "def postProcessing(dis_output,hlaalleles,output):\n",
    "    \n",
    "    dis_pep = pd.read_csv(f'{dis_output}.xls', delimiter='\\t', header = 1)\n",
    "    df = dis_pep\n",
    "    # Create an Excel writer object\n",
    "    writer = pd.ExcelWriter(f'{output}final_peptides.xlsx', engine='xlsxwriter')\n",
    "    columns_per_sheet = 6\n",
    "    hlaalleles1 = [item.replace(':', '-') for item in hlaalleles]\n",
    "    # Split the DataFrame and write to separate sheets\n",
    "    for sheet_name in hlaalleles1:\n",
    "        start_col = hlaalleles1.index(sheet_name) * columns_per_sheet + 3\n",
    "        end_col = start_col + columns_per_sheet\n",
    "        columns_to_include = df.columns[0:3].tolist() + df.columns[start_col:end_col].tolist()\n",
    "        # print(columns_to_include)\n",
    "    \n",
    "        sub_df = df[columns_to_include]\n",
    "        sub_df.to_excel(writer, sheet_name=sheet_name, index=False)\n",
    "    writer.close()\n",
    "    return "
   ]
  },
  {
   "cell_type": "code",
   "execution_count": 19,
   "id": "728e90a0-f16a-4df1-9c09-5458167ab8a1",
   "metadata": {},
   "outputs": [],
   "source": [
    "# Function: postProcessing2 \n",
    "# Inputs: output files(.xls) from runNetMHCpan \n",
    "# Returns: peptides exclusively present in disease-associated protein and generate xls file facet by different HLA alleles\n",
    "# Summary: postprocess data from NetMHCpan, and organize it to a tidy table \n",
    "\n",
    "def postProcessing2(hd_output,dis_output,hlaalleles,output):\n",
    "    \n",
    "    hd_pep = pd.read_csv(f'{hd_output}.xls', delimiter='\\t', header = 1)\n",
    "    dis_pep = pd.read_csv(f'{dis_output}.xls', delimiter='\\t', header = 1)\n",
    "    filtered_se_peps = dis_pep[~dis_pep['Peptide'].isin(hd_pep['Peptide'])]\n",
    "    df = filtered_se_peps\n",
    "    # Create an Excel writer object\n",
    "    writer = pd.ExcelWriter(f'{output}final_peptides.xlsx', engine='xlsxwriter')\n",
    "    columns_per_sheet = 6\n",
    "    hlaalleles1 = [item.replace(':', '-') for item in hlaalleles]\n",
    "    # Split the DataFrame and write to separate sheets\n",
    "    df = filtered_se_peps\n",
    "    for sheet_name in hlaalleles1:\n",
    "        start_col = hlaalleles1.index(sheet_name) * columns_per_sheet + 3\n",
    "        end_col = start_col + columns_per_sheet\n",
    "        columns_to_include = df.columns[0:3].tolist() + df.columns[start_col:end_col].tolist()\n",
    "        # print(columns_to_include)\n",
    "    \n",
    "        sub_df = df[columns_to_include]\n",
    "        sub_df.to_excel(writer, sheet_name=sheet_name, index=False)\n",
    "    writer.close()\n",
    "    return "
   ]
  },
  {
   "cell_type": "code",
   "execution_count": null,
   "id": "7037b7fc-9900-4392-bbd5-fe7f294041be",
   "metadata": {},
   "outputs": [],
   "source": [
    "############# RI ############### \n",
    "pep_path = \"MPN_neoepitope/neoj_peptides/RI_peptides_MPN.txt\"\n",
    "all_pep_ri = np.loadtxt(pep_path, dtype=str, delimiter='\\t')\n",
    "file_path_MF = 'MPN_neoepitope/HLA_MPN/MF_HLA_PLT_ftr.txt'\n",
    "hla_MF = ProcessHLA(file_path_MF)\n",
    "output_dir = 'MPN_neoepitope/output/'\n",
    "dis_pep_path = f'{output_dir}ri_mf_pep.fsa'\n",
    "ProcessSeq(all_pep_ri,dis_pep_path)\n",
    "#run netMHCpan\n",
    "netMHCpan_path = './netMHCpan'\n",
    "output_dir = 'MPN_neoepitope/output/'\n",
    "Hla_MF=','.join(hla_MF)\n",
    "dis_output = f'{output_dir}MF_ri_pep'\n",
    "pv_pep = f'{output_dir}ri_mf_pep.fsa'\n",
    "runNetMHCpan(netMHCpan_path, pv_pep, Hla_MF, dis_output)\n",
    "# postprocessing of output files \n",
    "mf_ri = 'MPN_neoepitope/output/MF_ri_pep'\n",
    "output = 'MPN_neoepitope/output/MF_ri'\n",
    "postProcessing(mf_ri,hla_MF,output)\n"
   ]
  },
  {
   "cell_type": "code",
   "execution_count": null,
   "id": "8c1eccad-6c1f-4baa-bc2d-b21f8daa4add",
   "metadata": {},
   "outputs": [],
   "source": [
    "# def main():\n",
    "#     all_pep_ri = np.loadtxt(pep_path, dtype=str, delimiter='\\t')\n",
    "#     hla_MF = ProcessHLA(file_path_MF)\n",
    "#     dis_pep_path = f'{output_dir}ri_mf_pep.fsa'\n",
    "#     ProcessSeq(all_pep_ri,dis_pep_path)\n",
    "#     Hla_MF=','.join(hla_MF)\n",
    "#     dis_output = f'{output_dir}MF_ri_pep'\n",
    "#     pv_pep = f'{output_dir}ri_mf_pep.fsa'\n",
    "#     runNetMHCpan(netMHCpan_path, pv_pep, Hla_MF, dis_output)\n",
    "#     postProcessing(mf_ri,hla_MF,output)\n",
    "    "
   ]
  },
  {
   "cell_type": "code",
   "execution_count": null,
   "id": "46e5776c-8fbf-4819-b77b-958f2e80093b",
   "metadata": {},
   "outputs": [],
   "source": [
    "# if __name__ == '__main__':\n",
    "    \n",
    "#     pep_path = \"MPN_neoepitope/neoj_peptides/RI_peptides_MPN.txt\"\n",
    "#     file_path_MF = 'MPN_neoepitope/HLA_MPN/MF_HLA_PLT_ftr.txt'\n",
    "#     output_dir = 'MPN_neoepitope/output/'\n",
    "#     netMHCpan_path = './netMHCpan'\n",
    "#     mf_ri = 'MPN_neoepitope/output/MF_ri_pep'\n",
    "#     output = 'MPN_neoepitope/output/MF_ri'\n",
    "#     main()"
   ]
  },
  {
   "cell_type": "code",
   "execution_count": 5,
   "id": "76db5035-03f1-4c1c-aa96-9afee09cb276",
   "metadata": {},
   "outputs": [
    {
     "name": "stdout",
     "output_type": "stream",
     "text": [
      "['ENSG00000105640' 'RPL18A'\n",
      " 'LREYKVFEKSPLRVKNFGIWLRYDSRSGTHNMYREYRDLTTAGAVTQC'\n",
      " 'LREYKVVGRCLPTPKCHTPPLYRMRIFAPNHVVAKSRFWYFVSQLKKMKKSSGEIVYCGQVFEKSPLRVKNFGIWLRYDSRSGTHNMYREYRDLTTAGAVTQC'\n",
      " 'MF' 'Ex' 'N']\n"
     ]
    }
   ],
   "source": [
    "#######A5SS##########\n",
    "pep_path = \"MPN_neoepitope/neoj_peptides/A5SS_peptides_MPN.txt\"\n",
    "all_pep_a5 = np.loadtxt(pep_path, dtype=str, delimiter='\\t')\n",
    "dis_pep_path = f'{output_dir}a5_mf_pep.fsa'\n",
    "with open(dis_pep_path, 'w') as f_dis:\n",
    "    f_dis.write(f'>{all_pep_a5[0]}\\n')\n",
    "    f_dis.write(f'{all_pep_a5[3]}\\n')\n",
    "dis_output = f'{output_dir}MF_a5ss_pep'\n",
    "mf_pep = f'{output_dir}a5_mf_pep.fsa'\n",
    "runNetMHCpan(netMHCpan_path, mf_pep, Hla_MF, dis_output)\n",
    "output = 'MPN_neoepitope/output/MF_a5ss'\n",
    "postProcessing(dis_output,hla_MF,output)"
   ]
  },
  {
   "cell_type": "code",
   "execution_count": 17,
   "id": "508e700d-8182-440d-b5b5-243e3367b5ab",
   "metadata": {},
   "outputs": [],
   "source": [
    "######A3SS##########\n",
    "pep_path = \"MPN_neoepitope/neoj_peptides/A3SS_peptides_MPN.txt\"\n",
    "all_pep_a3 = np.loadtxt(pep_path, dtype=str, delimiter='\\t')\n",
    "PV_pep_a3 = all_pep_a3[all_pep_a3[:,4] == 'PV']\n",
    "MF_pep_a3 = all_pep_a3[all_pep_a3[:,4] == 'MF']\n",
    "pv_a3_pep_path = f'{output_dir}a3_pv_pep.fsa'\n",
    "mf_a3_pep_path = f'{output_dir}a3_mf_pep.fsa'\n",
    "ProcessSeq(PV_pep_a3,pv_a3_pep_path)\n",
    "ProcessSeq(MF_pep_a3,mf_a3_pep_path)\n",
    "dis_mf_output = f'{output_dir}MF_a3ss_pep'\n",
    "dis_pv_output = f'{output_dir}PV_a3ss_pep'\n",
    "file_path_PV = 'MPN_neoepitope/HLA_MPN/PV_HLA_PLT_ftr.txt'\n",
    "hla_PV = ProcessHLA(file_path_PV)\n",
    "Hla_PV=','.join(hla_PV)\n",
    "runNetMHCpan(netMHCpan_path, pv_a3_pep_path, Hla_PV, dis_pv_output)\n",
    "runNetMHCpan(netMHCpan_path, mf_a3_pep_path, Hla_MF, dis_mf_output)\n",
    "mf_output = 'MPN_neoepitope/output/MF_a3ss'\n",
    "pv_output = 'MPN_neoepitope/output/PV_a3ss'\n",
    "postProcessing(dis_mf_output,hla_MF,mf_output)\n",
    "postProcessing(dis_pv_output,hla_PV,pv_output)\n"
   ]
  },
  {
   "cell_type": "code",
   "execution_count": 18,
   "id": "ab5b41c7-f49d-4980-86fd-04a261c56473",
   "metadata": {},
   "outputs": [],
   "source": [
    "#'Y'peptides for PV and MF\n",
    "PV_a3_hd_pep = f'{output_dir}PV_a3_hd_pep2.fsa'\n",
    "PV_a3_dis_pep = f'{output_dir}PV_a3_dis_pep2.fsa'\n",
    "processPeps(PV_pep_a3, PV_a3_hd_pep, PV_a3_dis_pep)\n",
    "MF_a3_hd_pep = f'{output_dir}MF_a3_hd_pep2.fsa'\n",
    "MF_a3_dis_pep = f'{output_dir}MF_a3_dis_pep2.fsa'\n",
    "processPeps(MF_pep_a3, MF_a3_hd_pep, MF_a3_dis_pep)\n"
   ]
  },
  {
   "cell_type": "code",
   "execution_count": null,
   "id": "1da95836-cb05-40ca-bfe1-f9c39e273dee",
   "metadata": {},
   "outputs": [],
   "source": [
    "#run netMHCpan for pv  \n",
    "pv_a3_hd_output = f'{output_dir}pv_a3_hd_pep'\n",
    "pv_a3_dis_output = f'{output_dir}pv_a3_dis_pep'\n",
    "runNetMHCpan(netMHCpan_path, PV_a3_hd_pep, Hla_PV,pv_a3_hd_output)\n",
    "runNetMHCpan(netMHCpan_path, PV_a3_dis_pep, Hla_PV,pv_a3_dis_output)\n",
    "# postprocessing step to filter out normal proteome \n",
    "pv_final = 'MPN_neoepitope/output/pv_a32'\n",
    "postProcessing2(pv_a3_hd_output,pv_a3_dis_output,hla_PV,pv_final)"
   ]
  },
  {
   "cell_type": "code",
   "execution_count": null,
   "id": "f330fad6-f4bc-442b-8b68-5441edce8173",
   "metadata": {},
   "outputs": [],
   "source": [
    "#run netMHCpan for mf\n",
    "mf_a3_hd_output = f'{output_dir}mf_a3_hd_pep'\n",
    "mf_a3_dis_output = f'{output_dir}mf_a3_dis_pep'\n",
    "runNetMHCpan(netMHCpan_path, MF_a3_hd_pep, Hla_MF,mf_a3_hd_output)\n",
    "runNetMHCpan(netMHCpan_path, MF_a3_dis_pep, Hla_MF,mf_a3_dis_output)\n",
    "# postprocessing step to filter out normal proteome\n",
    "mf_final = 'MPN_neoepitope/output/mf_a32'\n",
    "postProcessing2(mf_a3_hd_output,mf_a3_dis_output,hla_MF,mf_final)\n"
   ]
  },
  {
   "cell_type": "code",
   "execution_count": 22,
   "id": "8d75076e-da3d-45ea-98c8-d05ce403216c",
   "metadata": {},
   "outputs": [],
   "source": [
    "#######MXE##########\n",
    "pep_path = \"MPN_neoepitope/neoj_peptides/MXE_peptides_MPN.txt\"\n",
    "all_pep_mxe = np.loadtxt(pep_path, dtype=str, delimiter='\\t')\n",
    "PV = all_pep_mxe[:,4] == 'PV'\n",
    "MF = all_pep_mxe[:,4] == 'MF'\n",
    "PV_pep_mxe = all_pep_mxe[PV]\n",
    "MF_pep_mxe = all_pep_mxe[MF]"
   ]
  },
  {
   "cell_type": "code",
   "execution_count": null,
   "id": "70698155-ebc7-44c3-8898-eabc1ec5fe9f",
   "metadata": {},
   "outputs": [],
   "source": [
    "# analysing differental('Y') peptides between HD and disease \n",
    "PV_mxe_hd_pep = f'{output_dir}PV_mxe_hd_pep2.fsa'\n",
    "PV_mxe_dis_pep = f'{output_dir}PV_mxe_dis_pep2.fsa'\n",
    "processPeps(PV_pep_mxe, PV_mxe_hd_pep, PV_mxe_dis_pep)\n",
    "MF_mxe_hd_pep = f'{output_dir}MF_mxe_hd_pep2.fsa'\n",
    "MF_mxe_dis_pep = f'{output_dir}MF_mxe_dis_pep2.fsa'\n",
    "processPeps(MF_pep_mxe, MF_mxe_hd_pep, MF_mxe_dis_pep)\n"
   ]
  },
  {
   "cell_type": "code",
   "execution_count": null,
   "id": "00f41964-03c6-49de-909c-7470665f0996",
   "metadata": {},
   "outputs": [],
   "source": [
    "# run netMHCpan in PV mxe(Y) events \n",
    "pv_mxe_hd_output = f'{output_dir}pv_mxe_hd_pep'\n",
    "pv_mxe_dis_output = f'{output_dir}pv_mxe_dis_pep'\n",
    "runNetMHCpan(netMHCpan_path, PV_mxe_hd_pep, Hla_PV,pv_mxe_hd_output)\n",
    "runNetMHCpan(netMHCpan_path, PV_mxe_dis_pep, Hla_PV,pv_mxe_dis_output)\n",
    "#postprocessing pv mxe files\n",
    "pv_final = 'MPN_neoepitope/output/pv_mxe'\n",
    "postProcessing2(pv_mxe_hd_output,pv_mxe_dis_output,hla_PV,pv_final)"
   ]
  },
  {
   "cell_type": "code",
   "execution_count": null,
   "id": "b659770e-0c60-4336-9197-c37383072015",
   "metadata": {},
   "outputs": [],
   "source": [
    "# run netMHCpan in MF mxe(Y) events\n",
    "mf_mxe_hd_output = f'{output_dir}mf_mxe_hd_pep'\n",
    "mf_mxe_dis_output = f'{output_dir}mf_mxe_dis_pep'\n",
    "runNetMHCpan(netMHCpan_path, MF_mxe_hd_pep, Hla_MF,mf_mxe_hd_output)\n",
    "runNetMHCpan(netMHCpan_path, MF_mxe_dis_pep, Hla_MF,mf_mxe_dis_output)\n",
    "#postprocessing mf mxe files\n",
    "mf_final = 'MPN_neoepitope/output/mf_mxe'\n",
    "postProcessing2(mf_mxe_hd_output,mf_mxe_dis_output,hla_MF,mf_final)"
   ]
  },
  {
   "cell_type": "code",
   "execution_count": null,
   "id": "646058ed-a9f4-406c-a9da-aa9d2ffef5f1",
   "metadata": {},
   "outputs": [],
   "source": [
    "# run netMHCpan in MF mxe(N) events\n",
    "MF_pep_mxe_path = f'{output_dir}MF_mxe_pep2.fsa'\n",
    "mf_mxe_output2 = f'{output_dir}mf_mxe_pep2'\n",
    "ProcessSeq(MF_pep_mxe,MF_pep_mxe_path)\n",
    "runNetMHCpan(netMHCpan_path, MF_pep_mxe_path, Hla_MF,mf_mxe_output2)\n",
    "#postprocessing mf mxe(N) files\n",
    "output_mf_mxe = 'MPN_neoepitope/output/MF_mxe2'\n",
    "postProcessing(mf_mxe_output2,hla_MF,output_mf_mxe)"
   ]
  },
  {
   "cell_type": "code",
   "execution_count": 25,
   "id": "24b91c20-dcf9-47b3-b158-0ac653addc20",
   "metadata": {},
   "outputs": [],
   "source": [
    "###########SE#############\n",
    "pep_path = \"SE_peptides_MPN_1128.txt\"\n",
    "all_pep_se = np.loadtxt(pep_path, dtype=str, delimiter='\\t')\n",
    "PV = all_pep_se[:,4] == 'PV'\n",
    "MF = all_pep_se[:,4] == 'MF'\n",
    "ET = all_pep_se[:,4] == 'ET'\n",
    "PV_pep_se = all_pep_se[PV]\n",
    "MF_pep_se = all_pep_se[MF]\n",
    "ET_pep_se = all_pep_se[ET]\n"
   ]
  },
  {
   "cell_type": "code",
   "execution_count": null,
   "id": "fa5ac089-93fc-4d6a-aa57-f20941afafdb",
   "metadata": {},
   "outputs": [],
   "source": [
    "# 'N' se peptides for ET and PV\n",
    "pv_se_pep_path = f'{output_dir}se_pv_pep.fsa'\n",
    "et_se_pep_path = f'{output_dir}se_et_pep.fsa'\n",
    "ProcessSESeq(PV_pep_se,pv_se_pep_path)\n",
    "ProcessSESeq(ET_pep_se,et_se_pep_path)\n",
    "dis_et_output = f'{output_dir}ET_se_pep'\n",
    "dis_pv_output = f'{output_dir}PV_se_pep'\n",
    "file_path_PV = 'MPN_neoepitope/HLA_MPN/ET_HLA_PLT_ftr.txt'\n",
    "hla_ET = ProcessHLA(file_path_ET)\n",
    "Hla_ET=','.join(hla_ET)\n",
    "runNetMHCpan(netMHCpan_path, pv_se_pep_path, Hla_PV, dis_pv_output)\n",
    "runNetMHCpan(netMHCpan_path, et_se_pep_path, Hla_ET, dis_et_output)\n",
    "\n",
    "# postprocessing \n",
    "output_dir = 'MPN_neoepitope/output/'\n",
    "dis_et_output = f'{output_dir}ET_se_pep'\n",
    "dis_pv_output = f'{output_dir}PV_se_pep'\n",
    "output_pv_se = 'MPN_neoepitope/output/PV_SE'\n",
    "output_et_se = 'MPN_neoepitope/output/ET_SE'\n",
    "postProcessing(dis_pv_output,hla_PV,output_pv_se)\n",
    "postProcessing(dis_et_output,hla_ET,output_et_se)"
   ]
  },
  {
   "cell_type": "code",
   "execution_count": null,
   "id": "a0ca3fda-6aff-4d2a-b44e-d03e590ed617",
   "metadata": {},
   "outputs": [],
   "source": [
    "# 'Y' se peptides for MF\n",
    "MF_se_hd_pep = f'{output_dir}MF_se_hd_pep2.fsa'\n",
    "MF_se_dis_pep = f'{output_dir}MF_se_dis_pep2.fsa'\n",
    "processSEPeps(MF_pep_se, MF_se_hd_pep, MF_se_dis_pep)"
   ]
  },
  {
   "cell_type": "code",
   "execution_count": null,
   "id": "bb4d46f2-c61b-4015-8a47-559b29bc9805",
   "metadata": {},
   "outputs": [],
   "source": [
    "mf_se_hd_output = f'{output_dir}mf_se_hd_pep'\n",
    "mf_se_dis_output = f'{output_dir}mf_se_dis_pep'\n",
    "Hla_MF=','.join(hla_MF)\n",
    "netMHCpan_path = './netMHCpan'\n",
    "runNetMHCpan(netMHCpan_path, MF_se_hd_pep, Hla_MF,mf_se_hd_output)\n",
    "runNetMHCpan(netMHCpan_path, MF_se_dis_pep, Hla_MF,mf_se_dis_output)\n",
    "# postprocessing \n",
    "mf_se_y_final = 'MPN_neoepitope/output/mf_se_y'\n",
    "postProcessing2(mf_se_hd_output,mf_se_dis_output,hla_MF,mf_se_y_final)"
   ]
  },
  {
   "cell_type": "code",
   "execution_count": null,
   "id": "a1fd6ccd-3ed3-403c-8921-62fa8bcb8ac5",
   "metadata": {},
   "outputs": [],
   "source": [
    "# 'N' se peptides for MF\n",
    "output_dir = 'MPN_neoepitope/output/'\n",
    "mf_se_pep_path = f'{output_dir}mf_n_se_pep.fsa'\n",
    "pep_path = \"SE_peptides_MPN_1128.txt\"\n",
    "all_pep_se = np.loadtxt(pep_path, dtype=str, delimiter='\\t')\n",
    "MF = all_pep_se[:,4] == 'MF'\n",
    "MF_pep_se = all_pep_se[MF]\n",
    "ProcessSESeq(MF_pep_se,mf_se_pep_path)\n",
    "# postprocessing \n",
    "output_mf_se = 'MPN_neoepitope/output/MF_SE_N'\n",
    "postProcessing(dis_mf_output,hla_MF,output_mf_se)"
   ]
  }
 ],
 "metadata": {
  "kernelspec": {
   "display_name": "Python 3 (ipykernel)",
   "language": "python",
   "name": "python3"
  },
  "language_info": {
   "codemirror_mode": {
    "name": "ipython",
    "version": 3
   },
   "file_extension": ".py",
   "mimetype": "text/x-python",
   "name": "python",
   "nbconvert_exporter": "python",
   "pygments_lexer": "ipython3",
   "version": "3.9.12"
  }
 },
 "nbformat": 4,
 "nbformat_minor": 5
}

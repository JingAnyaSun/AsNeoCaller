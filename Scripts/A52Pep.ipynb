{
 "cells": [
  {
   "cell_type": "code",
   "execution_count": 1,
   "id": "f99ddac0-5f69-4aea-aaa2-558ca3a39ba0",
   "metadata": {},
   "outputs": [],
   "source": [
    "# import packages \n",
    "import gffutils\n",
    "from Bio import SeqIO \n",
    "import numpy as np\n",
    "from Bio.Seq import Seq\n",
    "import pandas as pd"
   ]
  },
  {
   "cell_type": "code",
   "execution_count": 2,
   "id": "fd4b4147-f81e-4b6d-9018-b57d56c956e2",
   "metadata": {},
   "outputs": [],
   "source": [
    "# create database using gtf file(should be the same one as used for rMATS analysis)\n",
    "fn1='Homo_sapiens.GRCh38.90.gtf.gz'\n",
    "db = gffutils.create_db(fn1,\":memory:\",keep_order=True,disable_infer_genes=True, disable_infer_transcripts=True)"
   ]
  },
  {
   "cell_type": "code",
   "execution_count": 3,
   "id": "f65021d4-5bbe-4f3b-a5e9-3c6d5e5828d7",
   "metadata": {},
   "outputs": [],
   "source": [
    "# parse ref fasta seq\n",
    "file_path = \"Homo_sapiens.GRCh38.dna.primary_assembly.fa\"\n",
    "hg38_sequences = list(SeqIO.parse(file_path, \"fasta\"))"
   ]
  },
  {
   "cell_type": "code",
   "execution_count": 4,
   "id": "f1132907-e9b4-477e-a3fd-0e3014376ae3",
   "metadata": {},
   "outputs": [],
   "source": [
    "# covert csv to txt file, then load txt  \n",
    "def covReadCSV(csv_path,txt_path):\n",
    "    data = pd.read_csv(csv_path)\n",
    "    data.to_csv(txt_path, sep='\\t', index=False)\n",
    "    columns_to_read = list(range(2, 12)) + list(range(18, 21))\n",
    "    AS = np.loadtxt(txt_path, dtype=str, delimiter='\\t', skiprows=1, usecols=columns_to_read)\n",
    "    return AS"
   ]
  },
  {
   "cell_type": "code",
   "execution_count": 20,
   "id": "77f9b6b2-ab8c-4b11-b8f1-0ad8240cd11e",
   "metadata": {},
   "outputs": [],
   "source": [
    "# Function: getA5Frame\n",
    "# Inputs: rMATs file after processing(DSSEs) and gff database(!Note the release version of gff file, fasta file, and rMATs file should be the same!)  \n",
    "# Returns: array file containing info of the upstream exon start/end position, frame, target exon start/end position, downstream exon start/end position \n",
    "# Summary: retrieve the frame information from gff file for translation \n",
    "def getA5Frame(se, db):\n",
    "    dtype = [('Gene_ID', 'U20'), ('strand', 'U10'), ('CDS_ID', 'U20'), ('CDS_Start', int), ('CDS_Stop', int), ('CDS_Frame', int),('S_Start', int), ('S_Stop', int),('L_Start', int), ('L_Stop', int),('Down_Start', int), ('Down_Stop', int), ('Chrom', 'U20'), ('Gene_name', 'U20'),\n",
    "            ('subtype', 'U20'), ('type', 'U10'), ('comp', 'U20')]\n",
    "    gene_frame_array = np.array([], dtype=dtype)\n",
    "    for l in se:\n",
    "        gene_id = l[0]\n",
    "        gene_name = l[1]\n",
    "        chrom = l[2]\n",
    "        strand = l[3]\n",
    "        DownES = int(l[8])\n",
    "        DownEE = int(l[9])\n",
    "        LES = int(l[4])\n",
    "        LEE = int(l[5])\n",
    "        SES = int(l[6])\n",
    "        SEE = int(l[7])\n",
    "        subtype = l[10]\n",
    "        type = l[11]\n",
    "        comp = l[12]\n",
    "        cds_features = db.children(gene_id, featuretype='CDS')\n",
    "        if strand == '+':\n",
    "            for cds in cds_features:\n",
    "                if cds.start == SES+1 and (cds.stop == SEE or cds.stop == LEE):\n",
    "                    # print(gene_id,cds.id,cds.start,cds.stop,cds.frame)\n",
    "                    gene_frame_array = np.append(gene_frame_array, np.array([(gene_id, strand, cds.id, cds.start, cds.stop, cds.frame, SES, SEE, LES, LEE, DownES, DownEE, chrom, gene_name, subtype, type, comp)], dtype=dtype))\n",
    "                    break\n",
    "                elif (cds.stop == SEE or cds.stop == LEE) and cds.start > SES+1:\n",
    "                    gene_frame_array = np.append(gene_frame_array, np.array([(gene_id, strand, cds.id, cds.start, cds.stop, cds.frame, SES, SEE, LES, LEE, DownES, DownEE, chrom, gene_name, subtype, type, comp)], dtype=dtype))\n",
    "                    break \n",
    "        else:\n",
    "            for cds in cds_features:\n",
    "                if cds.start == SES+1  and (cds.stop == SEE or cds.stop == LEE):\n",
    "                    # print(gene_id,cds.id,cds.start,cds.stop,cds.frame)\n",
    "                    gene_frame_array = np.append(gene_frame_array, np.array([(gene_id, strand, cds.id, cds.start, cds.stop, cds.frame, SES, SEE, LES, LEE, DownES, DownEE,chrom, gene_name, subtype, type, comp)], dtype=dtype))\n",
    "                    break\n",
    "                elif (cds.stop < SEE or cds.stop < LEE) and cds.start == SES+1:\n",
    "                    gene_frame_array = np.append(gene_frame_array, np.array([(gene_id, strand, cds.id, cds.start, cds.stop, cds.frame, SES, SEE, LES, LEE, DownES, DownEE,chrom, gene_name, subtype, type, comp)], dtype=dtype))\n",
    "                    break \n",
    "    return gene_frame_array"
   ]
  },
  {
   "cell_type": "code",
   "execution_count": 10,
   "id": "75df2503-3357-457a-962c-f0607023b42b",
   "metadata": {},
   "outputs": [],
   "source": [
    "# Function: getA5Seq\n",
    "# Inputs: rMATs file after processing(DSSEs) and hg38 reference(!Note the release version of gff file, fasta file, and rMATs file should be the same!)  \n",
    "# Returns: nucleotide sequence of designated coordinate range\n",
    "# Summary: retrieve nucleotide sequence based on the coordiate(start and end position of each exon of RI events) \n",
    "def getA5Seq(gene_frame_array, hg38_sequences):\n",
    "    # Define the data type for the structured array\n",
    "    dtype = [('Gene_ID', 'U20'), ('CDS_Frame', int), ('Chrom', 'U20'), ('Seq', 'U10000'), ('se_Seq', 'U10000'), ('gene_name', 'U20'),('subtype', 'U20'),('type', 'U20'),('comp', 'U20')]  # Adjust the max sequence length as needed\n",
    "    seq_array = np.array([], dtype=dtype)\n",
    "    \n",
    "    # Loop through your data, extract sequences, and add them to the structured array\n",
    "    for l in gene_frame_array:\n",
    "        gene = l[0]\n",
    "        strand = l[1]\n",
    "        ES = l[3]\n",
    "        frame = l[5]\n",
    "        SES = l[6]\n",
    "        SEE = l[7]\n",
    "        LES = l[8]\n",
    "        LEE = l[9]\n",
    "        DownES = l[10]\n",
    "        DownEE = l[11]\n",
    "        chrom = l[12]\n",
    "        gene_name = l[13]\n",
    "        subtype = l[14]\n",
    "        type = l[15]\n",
    "        comp = l[16]\n",
    "        \n",
    "        chrom_id = chrom[3:] # Extract the chromosome ID\n",
    "    \n",
    "        # Find the sequence for the specified chromosome\n",
    "        for record in hg38_sequences:\n",
    "            if record.id == chrom_id:\n",
    "                l_seq = record.seq[ES - 1:LEE]\n",
    "                s_seq = record.seq[ES -1 :SEE]\n",
    "                down_seq = record.seq[DownES: DownEE]\n",
    "                seq = str(s_seq + down_seq)  # Convert the sequence to a string\n",
    "                A5_seq = str(l_seq + down_seq)\n",
    "               \n",
    "                if strand == '+':\n",
    "                    seq_array = np.append(seq_array, np.array([(gene, frame, chrom_id, seq, A5_seq, gene_name,subtype,type, comp)], dtype=dtype))\n",
    "                    # print(gene, seq)\n",
    "                    # print(se_seq)\n",
    "                elif strand == '-':\n",
    "                    s_seq = record.seq[SES :SEE]\n",
    "                    l_seq = record.seq[LES :LEE]\n",
    "                    seq = s_seq[::-1] + down_seq[::-1]\n",
    "                    seq = str(Seq(seq).complement())\n",
    "                    A5_seq = l_seq[::-1] + down_seq[::-1]\n",
    "                    A5_seq = str(Seq(A5_seq).complement())  \n",
    "                    seq_array = np.append(seq_array, np.array([(gene, frame, chrom_id, seq, A5_seq, gene_name,subtype,type,comp)], dtype=dtype))\n",
    "    return seq_array\n"
   ]
  },
  {
   "cell_type": "code",
   "execution_count": 11,
   "id": "e6e63335-b619-4567-8037-bf507bc7727a",
   "metadata": {},
   "outputs": [],
   "source": [
    "# Function: getAASeq\n",
    "# Inputs: seq_array \n",
    "# Returns: amino acid sequence \n",
    "# Summary: translate the nucleotide sequence into amino acid sequence \n",
    "def getAASeq(seq_array):\n",
    "    dtype = [('Gene_ID', 'U20'),('Gene_name', 'U20'), ('aa_seq', 'U10000'), ('se_aa_seq', 'U10000'),('subtype','U20'),('type','U20'),('comp','U20')]  # Adjust the max sequence length as needed\n",
    "    aa_array = np.array([], dtype=dtype)\n",
    "\n",
    "    for l in seq_array:\n",
    "        gene = l[0]\n",
    "        frame = l[1]\n",
    "        seq = l[3]\n",
    "        se_seq = l[4]\n",
    "        gene_name = l[5]\n",
    "        subtype = l[6]\n",
    "        type = l[7]\n",
    "        comp = l[8]\n",
    "        aa = Seq(seq[frame:]).translate(to_stop=True)\n",
    "        se_aa = Seq(se_seq[frame:]).translate(to_stop = True)\n",
    "        aa_array = np.append(aa_array, np.array([(gene, gene_name, str(aa), str(se_aa),subtype,type,comp)], dtype=dtype))\n",
    "    return aa_array "
   ]
  },
  {
   "cell_type": "code",
   "execution_count": 18,
   "id": "cbd0e726-f4df-4638-977b-46024e159762",
   "metadata": {},
   "outputs": [],
   "source": [
    "def main():\n",
    "    a5ss = covReadCSV(a5ss_csv_path,a5ss_txt_path)\n",
    "    a5_frame = getA5Frame(a5ss, db)\n",
    "    a5_seq=getA5Seq(a5_frame, hg38_sequences)\n",
    "    a5_AA_seq = getAASeq(a5_seq)\n",
    "    file_name = \"MPN_neoepitope/A5SS_peptides_MPN.txt\"\n",
    "    fmt = \"%s\\t%s\\t%s\\t%s\\t%s\\t%s\\t%s\"\n",
    "    np.savetxt(file_name, a5_AA_seq, fmt=fmt, delimiter='\\t')\n",
    "    print('file saved!')"
   ]
  },
  {
   "cell_type": "code",
   "execution_count": 19,
   "id": "e9fa7f69-b878-4c6b-861d-8192e7ea5af9",
   "metadata": {},
   "outputs": [
    {
     "name": "stdout",
     "output_type": "stream",
     "text": [
      "file saved!\n"
     ]
    },
    {
     "name": "stderr",
     "output_type": "stream",
     "text": [
      "/scratch/prj/kordastilab_neoepitope/gffutil/jvenv/lib/python3.9/site-packages/Bio/Seq.py:2804: BiopythonWarning: Partial codon, len(sequence) not a multiple of three. Explicitly trim the sequence or add trailing N before translation. This may become an error in future.\n",
      "  warnings.warn(\n"
     ]
    }
   ],
   "source": [
    "if __name__ == '__main__':\n",
    "    a5ss_csv_path = 'MPN_neoepitope/neojunction/A5SS_all_neoj.csv'\n",
    "    a5ss_txt_path = 'MPN_neoepitope/neojunction/A5SS_all_neoj.txt'\n",
    "    main()"
   ]
  }
 ],
 "metadata": {
  "kernelspec": {
   "display_name": "Python 3 (ipykernel)",
   "language": "python",
   "name": "python3"
  },
  "language_info": {
   "codemirror_mode": {
    "name": "ipython",
    "version": 3
   },
   "file_extension": ".py",
   "mimetype": "text/x-python",
   "name": "python",
   "nbconvert_exporter": "python",
   "pygments_lexer": "ipython3",
   "version": "3.9.12"
  }
 },
 "nbformat": 4,
 "nbformat_minor": 5
}

{
 "cells": [
  {
   "cell_type": "code",
   "execution_count": 6,
   "id": "c8957de5-9566-4d77-bdab-66bd579c4d36",
   "metadata": {},
   "outputs": [],
   "source": [
    "# import packages \n",
    "import gffutils\n",
    "from Bio import SeqIO \n",
    "import numpy as np\n",
    "from Bio.Seq import Seq\n",
    "import pandas as pd"
   ]
  },
  {
   "cell_type": "code",
   "execution_count": 2,
   "id": "35fe5530-183d-4bb4-b42e-1719aa1ee1c8",
   "metadata": {},
   "outputs": [],
   "source": [
    "# create database using gtf file(should be the same one as used for rMATS analysis)\n",
    "fn1='Homo_sapiens.GRCh38.90.gtf.gz'\n",
    "db = gffutils.create_db(fn1,\":memory:\",keep_order=True,disable_infer_genes=True, disable_infer_transcripts=True)"
   ]
  },
  {
   "cell_type": "code",
   "execution_count": 3,
   "id": "c6c384bf-5455-421e-bfa1-bf511b787381",
   "metadata": {},
   "outputs": [],
   "source": [
    "# parse ref fasta seq\n",
    "file_path = \"Homo_sapiens.GRCh38.dna.primary_assembly.fa\"\n",
    "hg38_sequences = list(SeqIO.parse(file_path, \"fasta\"))"
   ]
  },
  {
   "cell_type": "code",
   "execution_count": 4,
   "id": "d9c2b21b-cfc8-4c45-b208-21c5b81477ad",
   "metadata": {},
   "outputs": [],
   "source": [
    "# covert csv to txt file, then load txt  \n",
    "def covReadCSV(csv_path,txt_path):\n",
    "    data = pd.read_csv(csv_path)\n",
    "    data.to_csv(txt_path, sep='\\t', index=False)\n",
    "    columns_to_read = list(range(2, 12)) + list(range(18, 21))\n",
    "    AS = np.loadtxt(txt_path, dtype=str, delimiter='\\t', skiprows=1, usecols=columns_to_read)\n",
    "    return AS"
   ]
  },
  {
   "cell_type": "code",
   "execution_count": 11,
   "id": "d0aea329-aea6-4c26-b27a-809d117971e3",
   "metadata": {},
   "outputs": [],
   "source": [
    "# Function: getFrame\n",
    "# Inputs: rMATs file after processing(DSSEs) and gff database(!Note the release version of gff file, fasta file, and rMATs file should be the same!)  \n",
    "# Returns: array file containing info of the upstream exon start/end position, frame, target exon start/end position, downstream exon start/end position \n",
    "# Summary: retrieve the frame information from gff file for translation \n",
    "def getFrame(se, db):\n",
    "    dtype = [('Gene_ID', 'U20'), ('strand', 'U10'), ('CDS_ID', 'U20'), ('CDS_Start', int), ('CDS_Stop', int), ('CDS_Frame', int),('T_Start', int), ('T_Stop', int),('Down_Start', int), ('Down_Stop', int), ('Chrom', 'U20'), ('Gene_name', 'U20'),\n",
    "            ('subtype', 'U20'),('type', 'U20'),('comp', 'U20')]\n",
    "    gene_frame_array = np.array([], dtype=dtype)\n",
    "    for l in se:\n",
    "        gene_id = l[0]\n",
    "        gene_name = l[1]\n",
    "        chrom = l[2]\n",
    "        strand = l[3]\n",
    "        UpES = int(l[6])\n",
    "        UpEE = int(l[7])\n",
    "        TES = int(l[4])\n",
    "        TEE = int(l[5])\n",
    "        DownES = int(l[8])\n",
    "        DownEE = int(l[9])\n",
    "        subtype = l[10]\n",
    "        type = l[11]\n",
    "        comp = l[12]\n",
    "        \n",
    "        cds_features = db.children(gene_id, featuretype='CDS')\n",
    "        if strand == '+':\n",
    "            for cds in cds_features:\n",
    "                if cds.start == UpES+1 and cds.stop == UpEE:\n",
    "                    # print(gene_id,cds.id,cds.start,cds.stop,cds.frame)\n",
    "                    gene_frame_array = np.append(gene_frame_array, np.array([(gene_id, strand, cds.id, cds.start, cds.stop, cds.frame, TES, TEE, DownES, DownEE, chrom, gene_name,subtype,type, comp)], dtype=dtype))\n",
    "                    break\n",
    "                elif cds.stop == UpEE and cds.start > UpES+1:\n",
    "                    gene_frame_array = np.append(gene_frame_array, np.array([(gene_id, strand, cds.id, cds.start, cds.stop, cds.frame, TES, TEE, DownES, DownEE, chrom, gene_name,subtype,type,comp)], dtype=dtype))\n",
    "                    break \n",
    "        else:\n",
    "            for cds in cds_features:\n",
    "                if cds.start == DownES+1 and cds.stop == DownEE:\n",
    "                    # print(gene_id,cds.id,cds.start,cds.stop,cds.frame)\n",
    "                    gene_frame_array = np.append(gene_frame_array, np.array([(gene_id, strand, cds.id, cds.start, cds.stop, cds.frame, TES, TEE, UpES, UpEE,chrom, gene_name,subtype,type,comp)], dtype=dtype))\n",
    "                    break\n",
    "                elif cds.start == DownES+1 and cds.stop < DownEE:\n",
    "                    gene_frame_array = np.append(gene_frame_array, np.array([(gene_id, strand, cds.id, cds.start, cds.stop, cds.frame, TES, TEE, UpES, UpEE,chrom, gene_name,subtype,type,comp)], dtype=dtype))\n",
    "                    break \n",
    "    return gene_frame_array"
   ]
  },
  {
   "cell_type": "code",
   "execution_count": 12,
   "id": "eee8b060-3f20-421e-bbac-5d054618c9cb",
   "metadata": {},
   "outputs": [],
   "source": [
    "# Function: getRISeq\n",
    "# Inputs: rMATs file after processing(DSSEs) and hg38 reference(!Note the release version of gff file, fasta file, and rMATs file should be the same!)  \n",
    "# Returns: nucleotide sequence of designated coordinate range\n",
    "# Summary: retrieve nucleotide sequence based on the coordiate(start and end position of each exon of RI events) \n",
    "def getRISeq(gene_frame_array, hg38_sequences):\n",
    "    # Define the data type for the structured array\n",
    "    dtype = [('Gene_ID', 'U20'), ('CDS_Frame', int), ('Chrom', 'U20'), ('Seq', 'U10000'), ('se_Seq', 'U10000'), ('gene_name', 'U20'),('subtype','U20'),('type','U20'),('comp','U20')]  # Adjust the max sequence length as needed\n",
    "    seq_array = np.array([], dtype=dtype)\n",
    "    \n",
    "    # Loop through your data, extract sequences, and add them to the structured array\n",
    "    for l in gene_frame_array:\n",
    "        gene = l[0]\n",
    "        strand = l[1]\n",
    "        UpES = l[3]\n",
    "        UpEE = l[4]\n",
    "        frame = l[5]\n",
    "        TES = l[6]\n",
    "        TEE = l[7]\n",
    "        DownES = l[8]\n",
    "        DownEE = l[9]\n",
    "        chrom = l[10]\n",
    "        gene_name = l[11]\n",
    "        subtype = l[12]\n",
    "        type = l[13]\n",
    "        comp = l[14]\n",
    "        \n",
    "        chrom_id = chrom[3:] # Extract the chromosome ID\n",
    "    \n",
    "        # Find the sequence for the specified chromosome\n",
    "        for record in hg38_sequences:\n",
    "            if record.id == chrom_id:\n",
    "                up_seq = record.seq[UpES - 1:UpEE]\n",
    "                t_seq = record.seq[TES:TEE]\n",
    "                down_seq = record.seq[DownES:DownEE]\n",
    "                seq = str(up_seq + down_seq)  # Convert the sequence to a string\n",
    "                ri_seq = str(t_seq)\n",
    "               \n",
    "                if strand == '+':\n",
    "                    seq_array = np.append(seq_array, np.array([(gene, frame, chrom_id, seq, ri_seq, gene_name, subtype, type, comp)], dtype=dtype))\n",
    "                    # print(gene, seq)\n",
    "                    # print(se_seq)\n",
    "                elif strand == '-':\n",
    "                    seq = up_seq[::-1]+ down_seq[::-1]\n",
    "                    seq = str(Seq(seq).complement())\n",
    "                    ri_seq = t_seq[::-1] \n",
    "                    ri_seq = str(Seq(ri_seq).complement())  \n",
    "                    seq_array = np.append(seq_array, np.array([(gene, frame, chrom_id, seq, ri_seq, gene_name, subtype, type, comp)], dtype=dtype))\n",
    "    return seq_array\n",
    "    "
   ]
  },
  {
   "cell_type": "code",
   "execution_count": 18,
   "id": "f03bec1d-7742-4cec-8628-0b4e4fe9fcfa",
   "metadata": {},
   "outputs": [],
   "source": [
    "# Function: getAASeq\n",
    "# Inputs: seq_array \n",
    "# Returns: amino acid sequence \n",
    "# Summary: translate the nucleotide sequence into amino acid sequence \n",
    "def getAASeq(seq_array):\n",
    "    dtype = [('Gene_ID', 'U20'),('Gene_name', 'U20'), ('aa_seq', 'U10000'), ('se_aa_seq', 'U10000'),('subtype','U20'),('type','U20'),('comp','U20')]  # Adjust the max sequence length as needed\n",
    "    aa_array = np.array([], dtype=dtype)\n",
    "\n",
    "    for l in seq_array:\n",
    "        gene = l[0]\n",
    "        frame = l[1]\n",
    "        seq = l[3]\n",
    "        se_seq = l[4]\n",
    "        gene_name = l[5]\n",
    "        subtype = l[6]\n",
    "        type = l[7]\n",
    "        comp = l[8]\n",
    "        aa = Seq(seq[frame:]).translate(to_stop=True)\n",
    "        se_aa = Seq(se_seq[frame:]).translate(to_stop = True)\n",
    "        aa_array = np.append(aa_array, np.array([(gene, gene_name, str(aa), str(se_aa),subtype,type,comp)], dtype=dtype))\n",
    "    return aa_array "
   ]
  },
  {
   "cell_type": "code",
   "execution_count": null,
   "id": "b424ec89-2cb1-4482-8c0c-081a11ffff44",
   "metadata": {},
   "outputs": [],
   "source": [
    "def main():\n",
    "    ri = covReadCSV(ri_csv_path,ri_txt_path)\n",
    "    ri_frame = getFrame(ri,db)\n",
    "    ri_seq = getRISeq(ri_frame, hg38_sequences)\n",
    "    ri_AA_seq = getAASeq(ri_seq)\n",
    "    file_name = \"RI_peptides_MPN.txt\"\n",
    "    fmt = \"%s\\t%s\\t%s\\t%s\\t%s\\t%s\\t%s\"\n",
    "    np.savetxt(file_name, ri_AA_seq, fmt=fmt, delimiter='\\t')\n",
    "    print('file saved!')\n",
    "    "
   ]
  },
  {
   "cell_type": "code",
   "execution_count": 13,
   "id": "aacb9aec-3ce4-4810-9005-e8899364edf0",
   "metadata": {},
   "outputs": [],
   "source": [
    "ri_csv_path = 'MPN_neoepitope/neojunction/RI_all_neoj.csv'\n",
    "ri_txt_path = 'MPN_neoepitope/neojunction/RI_all_neoj.txt'\n",
    "ri=covReadCSV(ri_csv_path,ri_txt_path)"
   ]
  },
  {
   "cell_type": "code",
   "execution_count": null,
   "id": "1a549403-b3c6-4149-b382-5d2c715b23ce",
   "metadata": {},
   "outputs": [],
   "source": [
    "file_name = \"RI_peptides_MPN.txt\"\n",
    "fmt = \"%s\\t%s\\t%s\\t%s\\t%s\\t%s\\t%s\"\n",
    "np.savetxt(file_name, ri_AA_seq, fmt=fmt, delimiter='\\t')"
   ]
  }
 ],
 "metadata": {
  "kernelspec": {
   "display_name": "Python 3 (ipykernel)",
   "language": "python",
   "name": "python3"
  },
  "language_info": {
   "codemirror_mode": {
    "name": "ipython",
    "version": 3
   },
   "file_extension": ".py",
   "mimetype": "text/x-python",
   "name": "python",
   "nbconvert_exporter": "python",
   "pygments_lexer": "ipython3",
   "version": "3.9.12"
  }
 },
 "nbformat": 4,
 "nbformat_minor": 5
}
